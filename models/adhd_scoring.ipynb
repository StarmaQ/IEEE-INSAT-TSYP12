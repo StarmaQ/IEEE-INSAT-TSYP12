{
  "cells": [
    {
      "cell_type": "code",
      "execution_count": 16,
      "metadata": {
        "colab": {
          "base_uri": "https://localhost:8080/"
        },
        "id": "9JW2v89kExwI",
        "outputId": "f0ef6cd5-420b-4339-d182-e7b95413cff8"
      },
      "outputs": [
        {
          "name": "stdout",
          "output_type": "stream",
          "text": [
            "            Feature  Importance\n",
            "1           std_dev    0.416554\n",
            "0     average_score    0.353599\n",
            "2  focus_percentage    0.229847\n",
            "\n",
            "Root Mean Squared Error (RMSE): 0.8263340794392494\n",
            "R-squared (R²): 0.9923516928612702\n"
          ]
        },
        {
          "data": {
            "text/plain": [
              "['adhd_model.pkl']"
            ]
          },
          "execution_count": 16,
          "metadata": {},
          "output_type": "execute_result"
        }
      ],
      "source": [
        "import pandas as pd\n",
        "from sklearn.model_selection import train_test_split\n",
        "from sklearn.ensemble import RandomForestRegressor\n",
        "from sklearn.metrics import mean_squared_error, r2_score\n",
        "import numpy as np\n",
        "import joblib\n",
        "\n",
        "df = pd.read_csv('adhd_dataset.csv')\n",
        "\n",
        "X = df[['average_score', 'std_dev', 'focus_percentage']]\n",
        "y = df['adhd_rs_score']\n",
        "\n",
        "X_train, X_test, y_train, y_test = train_test_split(X, y, test_size=0.2, random_state=42)\n",
        "\n",
        "model = RandomForestRegressor(n_estimators=100, random_state=42)\n",
        "model.fit(X_train, y_train)\n",
        "\n",
        "y_pred = model.predict(X_test)\n",
        "\n",
        "feature_importances = model.feature_importances_\n",
        "\n",
        "feature_df = pd.DataFrame({\n",
        "    'Feature': X.columns,\n",
        "    'Importance': feature_importances\n",
        "})\n",
        "\n",
        "feature_df = feature_df.sort_values(by='Importance', ascending=False)\n",
        "\n",
        "print(feature_df)\n",
        "\n",
        "mse = mean_squared_error(y_test, y_pred)\n",
        "rmse = np.sqrt(mse)\n",
        "r2 = r2_score(y_test, y_pred)\n",
        "\n",
        "print()\n",
        "\n",
        "print(f\"Root Mean Squared Error (RMSE): {rmse}\")\n",
        "print(f\"R-squared (R²): {r2}\")\n",
        "\n",
        "joblib.dump(model, 'adhd_model.pkl')"
      ]
    },
    {
      "cell_type": "code",
      "execution_count": 3,
      "metadata": {
        "id": "rXDsPnpLIaYY"
      },
      "outputs": [],
      "source": []
    }
  ],
  "metadata": {
    "colab": {
      "provenance": []
    },
    "kernelspec": {
      "display_name": "Python 3",
      "name": "python3"
    },
    "language_info": {
      "name": "python"
    }
  },
  "nbformat": 4,
  "nbformat_minor": 0
}
